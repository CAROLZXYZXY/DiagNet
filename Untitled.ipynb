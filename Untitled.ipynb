{
 "cells": [
  {
   "cell_type": "code",
   "execution_count": 1,
   "metadata": {},
   "outputs": [],
   "source": [
    "import torch\n",
    "import torch.nn as nn\n",
    "import torchvision"
   ]
  },
  {
   "cell_type": "code",
   "execution_count": null,
   "metadata": {},
   "outputs": [],
   "source": [
    "model = torchvision.models.resnet152(pretrained=False, **kwargs)\n",
    "dataset = torchvision.datasets.CocoCaptions(\n",
    "    root, annFile, \n",
    "    transform=transforms.Compose([torchvision.transforms.Resize(448,448),torchvision.transforms.ToTensor()])\n",
    ")\n",
    "data_loader = data.DataLoader(dataset, 256, shuffle=False, num_workers=4, pin_memory=False, drop_last=False)\n",
    "for inputs, _ in train_data_loader:\n",
    "    print(inputs.shape)\n",
    "    outputs = model(inputs)\n",
    "    print(outputs.shape)\n",
    "\n"
   ]
  }
 ],
 "metadata": {
  "kernelspec": {
   "display_name": "Python 3",
   "language": "python",
   "name": "python3"
  },
  "language_info": {
   "codemirror_mode": {
    "name": "ipython",
    "version": 3
   },
   "file_extension": ".py",
   "mimetype": "text/x-python",
   "name": "python",
   "nbconvert_exporter": "python",
   "pygments_lexer": "ipython3",
   "version": "3.6.4"
  }
 },
 "nbformat": 4,
 "nbformat_minor": 2
}
